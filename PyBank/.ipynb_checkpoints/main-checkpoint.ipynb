{
 "cells": [
  {
   "cell_type": "code",
   "execution_count": 5,
   "id": "4dc2a846-19b8-4e56-a44b-75df43eaa607",
   "metadata": {},
   "outputs": [
    {
     "name": "stdout",
     "output_type": "stream",
     "text": [
      "\n"
     ]
    }
   ],
   "source": [
    "#importing OS module and csv file\n",
    "import os\n",
    "import csv\n",
    "\n",
    "# Define the path to your CSV file\n",
    "csv_file_path = 'budget_data.csv'\n",
    "\n",
    "# Check if the CSV file exists\n",
    "if os.path.exists(csv_file_path):\n",
    "    print()\n",
    "else:\n",
    "    print(f\"The file '{csv_file_path}' does not exist.\")\n",
    "    \n",
    "#initializing all variables \n",
    "totalMonths = 0\n",
    "totalPL = 0\n",
    "avgChangePL = 0\n",
    "csvDates = []\n",
    "csvPLs = []\n"
   ]
  },
  {
   "cell_type": "code",
   "execution_count": null,
   "id": "69d7bb74-e298-41f2-9a36-e8cc56791b5c",
   "metadata": {},
   "outputs": [],
   "source": []
  }
 ],
 "metadata": {
  "kernelspec": {
   "display_name": "Python 3 (ipykernel)",
   "language": "python",
   "name": "python3"
  },
  "language_info": {
   "codemirror_mode": {
    "name": "ipython",
    "version": 3
   },
   "file_extension": ".py",
   "mimetype": "text/x-python",
   "name": "python",
   "nbconvert_exporter": "python",
   "pygments_lexer": "ipython3",
   "version": "3.9.7"
  }
 },
 "nbformat": 4,
 "nbformat_minor": 5
}
