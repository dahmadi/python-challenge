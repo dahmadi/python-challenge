{
 "cells": [
  {
   "cell_type": "code",
   "execution_count": null,
   "id": "4dc2a846-19b8-4e56-a44b-75df43eaa607",
   "metadata": {},
   "outputs": [],
   "source": [
    "#importing OS module and csv file\n",
    "\n",
    "import os\n",
    "import csv\n",
    "\n",
    "# Define the path to your CSV file\n",
    "csv_file_path = 'budget_data.csv'\n",
    "\n",
    "# Check if the CSV file exists\n",
    "if os.path.exists(csv_file_path):\n",
    "    # Reading CSV file\n",
    "    with open(csv_file_path, 'r') as file:\n",
    "        csv_reader = csv.reader(file)\n",
    "        for row in csv_reader:\n",
    "            print(row)\n",
    "else:\n",
    "    print(f\"The file '{csv_file_path}' does not exist.\")"
   ]
  }
 ],
 "metadata": {
  "kernelspec": {
   "display_name": "Python 3 (ipykernel)",
   "language": "python",
   "name": "python3"
  },
  "language_info": {
   "codemirror_mode": {
    "name": "ipython",
    "version": 3
   },
   "file_extension": ".py",
   "mimetype": "text/x-python",
   "name": "python",
   "nbconvert_exporter": "python",
   "pygments_lexer": "ipython3",
   "version": "3.9.7"
  }
 },
 "nbformat": 4,
 "nbformat_minor": 5
}
